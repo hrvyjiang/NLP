{
 "cells": [
  {
   "cell_type": "markdown",
   "metadata": {},
   "source": [
    "## Import packages"
   ]
  },
  {
   "cell_type": "code",
   "execution_count": 27,
   "metadata": {},
   "outputs": [],
   "source": [
    "import pandas as pd\n",
    "import numpy as np\n",
    "import spacy\n",
    "from spacy import displacy\n",
    "from collections import Counter\n",
    "import en_core_web_sm\n",
    "nlp = en_core_web_sm.load()\n",
    "\n",
    "from bs4 import BeautifulSoup\n",
    "import requests\n",
    "import re"
   ]
  },
  {
   "cell_type": "markdown",
   "metadata": {},
   "source": [
    "## Preprocessing"
   ]
  },
  {
   "cell_type": "code",
   "execution_count": 24,
   "metadata": {},
   "outputs": [],
   "source": [
    "ex = 'European authorities fined Google a record $5.1 billion on Wednesday for abusing its power in the mobile phone market and ordered the company to alter its practices'"
   ]
  },
  {
   "cell_type": "code",
   "execution_count": 36,
   "metadata": {},
   "outputs": [
    {
     "data": {
      "text/html": [
       "<span class=\"tex2jax_ignore\"><div class=\"entities\" style=\"line-height: 2.5; direction: ltr\">\n",
       "<mark class=\"entity\" style=\"background: #c887fb; padding: 0.45em 0.6em; margin: 0 0.25em; line-height: 1; border-radius: 0.35em;\">\n",
       "    European\n",
       "    <span style=\"font-size: 0.8em; font-weight: bold; line-height: 1; border-radius: 0.35em; vertical-align: middle; margin-left: 0.5rem\">NORP</span>\n",
       "</mark>\n",
       " authorities fined \n",
       "<mark class=\"entity\" style=\"background: #7aecec; padding: 0.45em 0.6em; margin: 0 0.25em; line-height: 1; border-radius: 0.35em;\">\n",
       "    Google\n",
       "    <span style=\"font-size: 0.8em; font-weight: bold; line-height: 1; border-radius: 0.35em; vertical-align: middle; margin-left: 0.5rem\">ORG</span>\n",
       "</mark>\n",
       " a record \n",
       "<mark class=\"entity\" style=\"background: #e4e7d2; padding: 0.45em 0.6em; margin: 0 0.25em; line-height: 1; border-radius: 0.35em;\">\n",
       "    $5.1 billion\n",
       "    <span style=\"font-size: 0.8em; font-weight: bold; line-height: 1; border-radius: 0.35em; vertical-align: middle; margin-left: 0.5rem\">MONEY</span>\n",
       "</mark>\n",
       " on \n",
       "<mark class=\"entity\" style=\"background: #bfe1d9; padding: 0.45em 0.6em; margin: 0 0.25em; line-height: 1; border-radius: 0.35em;\">\n",
       "    Wednesday\n",
       "    <span style=\"font-size: 0.8em; font-weight: bold; line-height: 1; border-radius: 0.35em; vertical-align: middle; margin-left: 0.5rem\">DATE</span>\n",
       "</mark>\n",
       " for abusing its power in the mobile phone market and ordered the company to alter its practices</div></span>"
      ],
      "text/plain": [
       "<IPython.core.display.HTML object>"
      ]
     },
     "metadata": {},
     "output_type": "display_data"
    }
   ],
   "source": [
    "doc = nlp(ex)\n",
    "displacy.render(doc, style=\"ent\", jupyter=True)"
   ]
  },
  {
   "attachments": {},
   "cell_type": "markdown",
   "metadata": {},
   "source": [
    "### Web scrap an article"
   ]
  },
  {
   "cell_type": "code",
   "execution_count": 31,
   "metadata": {},
   "outputs": [],
   "source": [
    "def url_to_string(url):\n",
    "    res = requests.get(url)\n",
    "    html = res.text\n",
    "    soup = BeautifulSoup(html, \"html.parser\")\n",
    "    for script in soup([\"script\", \"style\", 'aside']):\n",
    "        script.extract()\n",
    "    return \" \".join(re.split(r'[\\n\\t]+', soup.get_text()))"
   ]
  },
  {
   "cell_type": "code",
   "execution_count": 32,
   "metadata": {},
   "outputs": [
    {
     "data": {
      "text/plain": [
       "358"
      ]
     },
     "execution_count": 32,
     "metadata": {},
     "output_type": "execute_result"
    }
   ],
   "source": [
    "url = 'https://finance.yahoo.com/news/stock-market-news-today-dow-leads-stocks-higher-as-oil-falls-bitcoin-soars-210825601.html?guccounter=1&guce_referrer=aHR0cHM6Ly93d3cuZ29vZ2xlLmNvbS8&guce_referrer_sig=AQAAALCe78ZHxIilUnxojf7gZl7Y2qpdNip8aqeZuLD8eeYMkggap8Ep8Fij12xUi9Op8vSWAbYG4IwbqDBGsW7DeXKVvVcaAjITMPlE8q8MGbj5uOxxEMqlo7jDHOhyfsrDN8MYJKiAfBRiY_mwF2fu8m8F6FePbEecKhMSqUYehp7G'\n",
    "ny_bb = url_to_string(url)\n",
    "article = nlp(ny_bb)\n",
    "len(article.ents)"
   ]
  },
  {
   "cell_type": "code",
   "execution_count": 34,
   "metadata": {},
   "outputs": [
    {
     "data": {
      "text/plain": [
       "Counter({('today', 'DATE'): 3,\n",
       "         ('Dow', 'ORG'): 5,\n",
       "         ('YF Chartbook Calendars Trending Tickers Stocks', 'ORG'): 1,\n",
       "         ('Losers Top ETFs', 'PERSON'): 1,\n",
       "         ('Highest Implied Volatility US Treasury Bonds Rates Currency Converter           News             Latest News From',\n",
       "          'ORG'): 1,\n",
       "         ('the Newsroom Stock Market News Earnings Politics Economic News Morning Brief Personal Finance News Crypto News Bidenomics Report Card           Videos             Yahoo Finance Invest Yahoo Finance Live ETF Report',\n",
       "          'ORG'): 1,\n",
       "         ('Rating Screener', 'PERSON'): 1,\n",
       "         ('Smart Money Screener', 'PERSON'): 1,\n",
       "         ('AdvertisementU.S.', 'GPE'): 1,\n",
       "         ('EUR', 'ORG'): 1,\n",
       "         ('-0.29%', 'PERCENT'): 1,\n",
       "         ('10', 'CARDINAL'): 1,\n",
       "         ('Bitcoin USD37,547.93+2,296.52', 'ORG'): 1,\n",
       "         ('200779.38+36.86', 'PERCENT'): 1,\n",
       "         ('FTSE', 'ORG'): 1,\n",
       "         ('1007,486.91+46.44', 'DATE'): 1,\n",
       "         ('Yahoo FinanceStock', 'PERSON'): 1,\n",
       "         ('Josh SchaferNovember 15, 2023', 'PRODUCT'): 1,\n",
       "         ('1:10', 'TIME'): 1,\n",
       "         ('Wednesday', 'DATE'): 14,\n",
       "         ('about 0.5%', 'PERCENT'): 3,\n",
       "         ('about 0.2%', 'PERCENT'): 2,\n",
       "         ('the Nasdaq Composite', 'ORG'): 2,\n",
       "         ('four straight days', 'DATE'): 2,\n",
       "         ('August 14.Meanwhile', 'DATE'): 1,\n",
       "         ('Bitcoin', 'PERSON'): 1,\n",
       "         ('BTC-USD', 'ORG'): 1,\n",
       "         ('more than 6%', 'PERCENT'): 1,\n",
       "         ('above $37,000', 'MONEY'): 1,\n",
       "         ('West Texas Intermediate', 'PRODUCT'): 1,\n",
       "         ('F', 'PRODUCT'): 1,\n",
       "         ('76.51', 'MONEY'): 1,\n",
       "         ('Brent Crude', 'ORG'): 1,\n",
       "         ('just below $', 'MONEY'): 1,\n",
       "         ('81', 'MONEY'): 1,\n",
       "         ('US', 'GPE'): 12,\n",
       "         ('the Federal Reserve', 'ORG'): 2,\n",
       "         ('early next year', 'DATE'): 1,\n",
       "         ('October', 'DATE'): 3,\n",
       "         ('monthly', 'DATE'): 2,\n",
       "         ('two and a half years', 'DATE'): 1,\n",
       "         ('first', 'ORDINAL'): 5,\n",
       "         ('March', 'DATE'): 1,\n",
       "         ('0.1%', 'PERCENT'): 1,\n",
       "         ('Target', 'GPE'): 1,\n",
       "         ('more than 16%', 'PERCENT'): 1,\n",
       "         ('its third quarter', 'DATE'): 1,\n",
       "         ('Tuesday', 'DATE'): 2,\n",
       "         ('August 14.J22 minutes', 'DATE'): 1,\n",
       "         ('day', 'DATE'): 1,\n",
       "         (\"trendWe've\", 'GPE'): 1,\n",
       "         ('Treasury', 'ORG'): 4,\n",
       "         ('weeks', 'DATE'): 1,\n",
       "         ('Julian Emanuel at Evercore', 'ORG'): 1,\n",
       "         ('ISI', 'ORG'): 1,\n",
       "         ('A day', 'DATE'): 1,\n",
       "         ('10-year', 'DATE'): 2,\n",
       "         ('9', 'CARDINAL'): 1,\n",
       "         ('4.53%', 'PERCENT'): 1,\n",
       "         ('30-year', 'DATE'): 1,\n",
       "         ('7', 'CARDINAL'): 1,\n",
       "         ('The Nasdaq Composite', 'ORG'): 2,\n",
       "         ('about 0.1%.J1 hour', 'TIME'): 1,\n",
       "         ('SchaferChina', 'NORP'): 1,\n",
       "         ('Xi Jinping', 'PERSON'): 3,\n",
       "         ('night', 'TIME'): 2,\n",
       "         ('Chinese', 'NORP'): 4,\n",
       "         (\"Yahoo Finance's\", 'ORG'): 3,\n",
       "         ('Akiko Fujita', 'PERSON'): 1,\n",
       "         ('Ben Werschkul', 'PERSON'): 1,\n",
       "         ('American', 'NORP'): 3,\n",
       "         ('China', 'GPE'): 7,\n",
       "         ('eight years ago', 'DATE'): 1,\n",
       "         ('Xi', 'PERSON'): 6,\n",
       "         ('2015', 'DATE'): 2,\n",
       "         ('7%', 'PERCENT'): 1,\n",
       "         ('Microsoft', 'ORG'): 8,\n",
       "         ('MSFT', 'ORG'): 3,\n",
       "         ('Amazon', 'ORG'): 3,\n",
       "         ('Jeff Bezos', 'PERSON'): 1,\n",
       "         ('META', 'ORG'): 1,\n",
       "         ('Mark Zuckerberg', 'PERSON'): 1,\n",
       "         ('Apple', 'ORG'): 1,\n",
       "         ('Tim Cook', 'PERSON'): 1,\n",
       "         ('Zuckerberg', 'PERSON'): 2,\n",
       "         ('Facebook', 'PERSON'): 1,\n",
       "         ('Mandarin', 'LANGUAGE'): 1,\n",
       "         ('Cook', 'PERSON'): 1,\n",
       "         ('this week', 'DATE'): 1,\n",
       "         ('ACL', 'ORG'): 1,\n",
       "         ('Meta', 'ORG'): 1,\n",
       "         ('the Asia-Pacific Economic Cooperation', 'LOC'): 1,\n",
       "         ('APEC', 'ORG'): 1,\n",
       "         ('the San Francisco Bay Area', 'LOC'): 1,\n",
       "         ('one', 'CARDINAL'): 1,\n",
       "         ('years', 'DATE'): 1,\n",
       "         ('Stanford', 'ORG'): 1,\n",
       "         ('Herbert Lin', 'PERSON'): 1,\n",
       "         ('Lin', 'PERSON'): 1,\n",
       "         ('the coming years', 'DATE'): 1,\n",
       "         ('this month', 'DATE'): 1,\n",
       "         ('annual', 'DATE'): 1,\n",
       "         ('September', 'DATE'): 2,\n",
       "         ('J2 hours', 'TIME'): 1,\n",
       "         ('TGT', 'ORG'): 2,\n",
       "         ('the Yahoo Finance', 'ORG'): 1,\n",
       "         ('more than 17%', 'PERCENT'): 2,\n",
       "         ('earlier in the day', 'DATE'): 1,\n",
       "         ('Target', 'ORG'): 6,\n",
       "         ('Intel', 'ORG'): 2,\n",
       "         ('INTC', 'ORG'): 1,\n",
       "         ('more than 3%', 'PERCENT'): 1,\n",
       "         ('July 2022.Chinese', 'DATE'): 1,\n",
       "         ('Alibaba', 'PERSON'): 1,\n",
       "         ('JD.Com', 'PERSON'): 1,\n",
       "         ('JD', 'PERSON'): 1,\n",
       "         ('more than 8%', 'PERCENT'): 1,\n",
       "         ('Alibaba', 'NORP'): 1,\n",
       "         ('3%', 'PERCENT'): 1,\n",
       "         ('Thursday', 'DATE'): 1,\n",
       "         ('TJX', 'ORG'): 2,\n",
       "         ('more than 2%', 'PERCENT'): 2,\n",
       "         ('full-year', 'DATE'): 1,\n",
       "         ('J3 hours', 'TIME'): 1,\n",
       "         ('AI', 'ORG'): 3,\n",
       "         ('afternoon', 'TIME'): 2,\n",
       "         ('Nvidia', 'PERSON'): 1,\n",
       "         ('NVDA', 'ORG'): 1,\n",
       "         ('AMD', 'ORG'): 2,\n",
       "         ('Taiwan Semiconductor', 'ORG'): 1,\n",
       "         ('TSM', 'ORG'): 1,\n",
       "         ('Nvidia', 'ORG'): 1,\n",
       "         ('Dan Howley', 'PERSON'): 1,\n",
       "         ('100', 'CARDINAL'): 2,\n",
       "         ('Azure Maia AI', 'ORG'): 1,\n",
       "         ('cloud computing', 'PERSON'): 1,\n",
       "         ('two', 'CARDINAL'): 1,\n",
       "         ('Google', 'ORG'): 1,\n",
       "         ('AI', 'EVENT'): 1,\n",
       "         ('Rani Borkar', 'PERSON'): 1,\n",
       "         ('J4 hours', 'TIME'): 1,\n",
       "         ('SchaferFinancials', 'ORG'): 1,\n",
       "         ('WednesdayAll', 'ORG'): 1,\n",
       "         ('three', 'CARDINAL'): 1,\n",
       "         ('about 0.4%', 'PERCENT'): 1,\n",
       "         ('about 0.3%.Financials', 'CARDINAL'): 1,\n",
       "         ('XLF', 'ORG'): 1,\n",
       "         ('nearly 0.8%', 'PERCENT'): 1,\n",
       "         ('eleven', 'CARDINAL'): 1,\n",
       "         ('the second day', 'DATE'): 1,\n",
       "         ('YFinteractive', 'ORG'): 1,\n",
       "         ('A4 hours', 'TIME'): 1,\n",
       "         ('agoAlexandra CanalWarren Buffett', 'PERSON'): 1,\n",
       "         ('Sirius & Atlanta BravesSirius XM Holdings', 'ORG'): 1,\n",
       "         ('as much as 12%', 'PERCENT'): 1,\n",
       "         (\"Warren Buffett's\", 'PERSON'): 1,\n",
       "         ('Berkshire', 'PERSON'): 1,\n",
       "         ('13F', 'DATE'): 1,\n",
       "         ('nearly 9.7 million', 'CARDINAL'): 1,\n",
       "         ('about $43.8 million', 'MONEY'): 1,\n",
       "         ('September quarter', 'DATE'): 1,\n",
       "         ('Sirius', 'ORG'): 2,\n",
       "         ('this year', 'DATE'): 2,\n",
       "         ('about 10%', 'PERCENT'): 1,\n",
       "         (\"the S&P 500's\", 'ORG'): 1,\n",
       "         ('17%', 'PERCENT'): 1,\n",
       "         ('Buffett', 'PERSON'): 1,\n",
       "         ('Omaha', 'GPE'): 1,\n",
       "         ('General Motors', 'ORG'): 1,\n",
       "         ('GM', 'ORG'): 1,\n",
       "         ('Johnson', 'PERSON'): 2,\n",
       "         ('Proctor and Gamble', 'ORG'): 1,\n",
       "         ('Mondelez', 'PERSON'): 1,\n",
       "         ('Celanese', 'NORP'): 1,\n",
       "         ('CE', 'ORG'): 1,\n",
       "         ('Activision Blizzard', 'PERSON'): 1,\n",
       "         ('about 5%', 'PERCENT'): 1,\n",
       "         ('Chevron', 'ORG'): 1,\n",
       "         ('CVX', 'ORG'): 1,\n",
       "         ('Atlanta Braves Major League Baseball Club', 'ORG'): 1,\n",
       "         ('223.6 million', 'CARDINAL'): 1,\n",
       "         ('nearly $8 million', 'MONEY'): 1,\n",
       "         ('Atlanta Braves Holdings', 'ORG'): 1,\n",
       "         ('BATRA', 'ORG'): 1,\n",
       "         ('Liberty Media', 'ORG'): 1,\n",
       "         ('July', 'DATE'): 1,\n",
       "         ('third quarter', 'DATE'): 2,\n",
       "         ('$272 million', 'MONEY'): 1,\n",
       "         ('11%', 'PERCENT'): 1,\n",
       "         ('year-over-year', 'DATE'): 1,\n",
       "         ('late morning', 'TIME'): 1,\n",
       "         ('J5 hours', 'TIME'): 1,\n",
       "         ('SchaferGoldman Sachs', 'ORG'): 1,\n",
       "         ('2024', 'DATE'): 7,\n",
       "         ('Goldman Sachs', 'ORG'): 2,\n",
       "         ('4700', 'DATE'): 1,\n",
       "         ('5%', 'PERCENT'): 1,\n",
       "         ('the average 8%', 'PERCENT'): 1,\n",
       "         ('election years', 'DATE'): 1,\n",
       "         ('David Kostin', 'PERSON'): 1,\n",
       "         ('Goldman', 'ORG'): 3,\n",
       "         ('15%', 'PERCENT'): 1,\n",
       "         ('2.1%', 'PERCENT'): 1,\n",
       "         ('Fed', 'ORG'): 3,\n",
       "         ('the fourth quarter', 'DATE'): 1,\n",
       "         ('2024.\"Resilient', 'CARDINAL'): 1,\n",
       "         ('the beginning of the year', 'DATE'): 1,\n",
       "         ('2Q', 'CARDINAL'): 1,\n",
       "         ('Kostin', 'PERSON'): 1,\n",
       "         ('Later in', 'TIME'): 1,\n",
       "         ('hours', 'TIME'): 1,\n",
       "         ('SchaferTarget', 'ORG'): 1,\n",
       "         ('2019', 'DATE'): 1,\n",
       "         ('Wednesday morning', 'TIME'): 3,\n",
       "         ('Brian Sozzi', 'PERSON'): 1,\n",
       "         ('almost two years', 'DATE'): 1,\n",
       "         ('Brian Cornell', 'PERSON'): 1,\n",
       "         ('holiday quarter', 'DATE'): 1,\n",
       "         ('Cornell', 'PERSON'): 2,\n",
       "         ('August', 'DATE'): 1,\n",
       "         ('$25 billion', 'MONEY'): 1,\n",
       "         ('24.9', 'MONEY'): 1,\n",
       "         ('27.4%', 'PERCENT'): 1,\n",
       "         ('24.7%', 'PERCENT'): 1,\n",
       "         ('a year ago', 'DATE'): 1,\n",
       "         ('26.6%Diluted', 'CARDINAL'): 1,\n",
       "         ('EPS', 'ORG'): 1,\n",
       "         ('+36%', 'PERCENT'): 1,\n",
       "         ('year over year', 'DATE'): 2,\n",
       "         ('2.10', 'MONEY'): 1,\n",
       "         ('1.47', 'MONEY'): 1,\n",
       "         ('$1.20 to $1.60)Comparable', 'MONEY'): 1,\n",
       "         ('last year', 'DATE'): 1,\n",
       "         ('14%', 'PERCENT'): 1,\n",
       "         ('the prior year', 'DATE'): 1,\n",
       "         ('19%', 'PERCENT'): 1,\n",
       "         ('J7 hours', 'TIME'): 1,\n",
       "         ('SchaferStocks', 'ORG'): 1,\n",
       "         ('Nasdaq Composite', 'ORG'): 1,\n",
       "         ('more than 0.3%.Meanwhile', 'CARDINAL'): 1})"
      ]
     },
     "execution_count": 34,
     "metadata": {},
     "output_type": "execute_result"
    }
   ],
   "source": [
    "labels = [(x.text, x.label_) for x in article.ents]\n",
    "Counter(labels)"
   ]
  },
  {
   "cell_type": "code",
   "execution_count": 25,
   "metadata": {},
   "outputs": [
    {
     "name": "stdout",
     "output_type": "stream",
     "text": [
      "[('European', 'NORP'), ('Google', 'ORG'), ('$5.1 billion', 'MONEY'), ('Wednesday', 'DATE')]\n"
     ]
    }
   ],
   "source": [
    "doc = nlp(ex)\n",
    "print([(X.text, X.label_) for X in doc.ents])"
   ]
  },
  {
   "cell_type": "markdown",
   "metadata": {},
   "source": [
    "## Custom Train Finance Model"
   ]
  },
  {
   "cell_type": "code",
   "execution_count": 39,
   "metadata": {},
   "outputs": [],
   "source": [
    "# pip install spacy[tranformers]\n",
    "\n",
    "import json\n",
    "\n",
    "#importing annotated data for training\n",
    "with open('data.json', 'r') as f:\n",
    "    data = json.load(f)"
   ]
  },
  {
   "cell_type": "code",
   "execution_count": null,
   "metadata": {},
   "outputs": [],
   "source": [
    "training_data = {'classes' : ['STOCK', \"ORG\", \"PRODUCT\", \"DIRECTION\"], 'annotations' : []}\n",
    "for example in data['examples']:\n",
    "  temp_dict = {}\n",
    "  temp_dict['text'] = example['content']\n",
    "  temp_dict['entities'] = []\n",
    "  for annotation in example['annotations']:\n",
    "    start = annotation['start']\n",
    "    end = annotation['end']\n",
    "    label = annotation['tag_name'].upper()\n",
    "    temp_dict['entities'].append((start, end, label))\n",
    "  training_data['annotations'].append(temp_dict)"
   ]
  },
  {
   "cell_type": "code",
   "execution_count": null,
   "metadata": {},
   "outputs": [],
   "source": [
    "from spacy.tokens import DocBin\n",
    "from spacy.util import filter_spans\n",
    "from tqdm import tqdm\n",
    "\n",
    "nlp = spacy.blank('en')\n",
    "doc_bin = DocBin()\n",
    "\n",
    "for training_example  in tqdm(training_data['annotations']): \n",
    "    text = training_example['text']\n",
    "    labels = training_example['entities']\n",
    "    doc = nlp.make_doc(text) \n",
    "    ents = []\n",
    "    for start, end, label in labels:\n",
    "        span = doc.char_span(start, end, label=label, alignment_mode=\"contract\")\n",
    "        if span is None:\n",
    "            print(\"Skipping entity\")\n",
    "        else:\n",
    "            ents.append(span)\n",
    "    filtered_ents = filter_spans(ents)\n",
    "    doc.ents = filtered_ents \n",
    "    doc_bin.add(doc)\n",
    "\n",
    "doc_bin.to_disk(\"training_data.spacy\") # save the docbin object"
   ]
  },
  {
   "cell_type": "code",
   "execution_count": null,
   "metadata": {},
   "outputs": [],
   "source": [
    "# python -m spacy init fill-config base_config.cfg config.cfg\n",
    "# python -m spacy train config.cfg --output ./ --paths.train ./training_data.spacy --paths.dev ./training_data.spacy --gpu-id 0"
   ]
  },
  {
   "cell_type": "markdown",
   "metadata": {},
   "source": [
    "## Load new model"
   ]
  },
  {
   "cell_type": "code",
   "execution_count": null,
   "metadata": {},
   "outputs": [],
   "source": [
    "nlp_ner = spacy.load(\"model-best\")\n",
    "text = ''\n",
    "doc = nlp_ner(text)\n",
    "labels = [(x.text, x.label_) for x in doc.ents]"
   ]
  },
  {
   "cell_type": "code",
   "execution_count": null,
   "metadata": {},
   "outputs": [],
   "source": [
    "## Next steps\n",
    "### 1. store the values and labels in a database / dataframe\n",
    "### 2. Can be used for trading bot"
   ]
  }
 ],
 "metadata": {
  "kernelspec": {
   "display_name": "base",
   "language": "python",
   "name": "python3"
  },
  "language_info": {
   "codemirror_mode": {
    "name": "ipython",
    "version": 3
   },
   "file_extension": ".py",
   "mimetype": "text/x-python",
   "name": "python",
   "nbconvert_exporter": "python",
   "pygments_lexer": "ipython3",
   "version": "3.11.3"
  },
  "orig_nbformat": 4
 },
 "nbformat": 4,
 "nbformat_minor": 2
}
